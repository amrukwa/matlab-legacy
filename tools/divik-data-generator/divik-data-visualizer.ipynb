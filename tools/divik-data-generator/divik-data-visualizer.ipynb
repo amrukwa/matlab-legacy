{
 "cells": [
  {
   "cell_type": "code",
   "execution_count": null,
   "metadata": {
    "collapsed": true
   },
   "outputs": [],
   "source": [
    "import json\n",
    "import matplotlib.pyplot as plt\n",
    "%matplotlib inline\n",
    "import numpy as np\n",
    "from numpy.random import normal, seed\n",
    "from time import gmtime, strftime"
   ]
  },
  {
   "cell_type": "code",
   "execution_count": null,
   "metadata": {
    "collapsed": true
   },
   "outputs": [],
   "source": [
    "def get_pts(x,y,scale_x,scale_y,num):\n",
    "    x = (100*normal(loc=x, scale=scale_x, size=(1,num))).astype(int)\n",
    "    y = (100*normal(loc=y, scale=scale_y, size=(1,num))).astype(int)\n",
    "    return x, y"
   ]
  },
  {
   "cell_type": "code",
   "execution_count": null,
   "metadata": {
    "collapsed": false
   },
   "outputs": [],
   "source": [
    "seed(0)\n",
    "x1, y1 = get_pts(x=0.0, scale_x=.75, y=0.0, scale_y=.75, num=50)\n",
    "x2, y2 = get_pts(x=4.0, scale_x=.75, y=0.0, scale_y=.75, num=50)\n",
    "x3, y3 = get_pts(x=10.0, scale_x=1.0, y=10.0, scale_y=1.0, num=50)\n",
    "x4, y4 = get_pts(x=-1.0, scale_x=1.0, y=8.0, scale_y=1.0, num=50)\n",
    "x5, y5 = get_pts(x=4.0, scale_x=3.0, y=20.0, scale_y=3.0, num=400)\n",
    "x6, y6 = get_pts(x=20.0, scale_x=3.0, y=0.0, scale_y=1.0, num=500)\n",
    "x7, y7 = get_pts(x=20.0, scale_x=1.0, y=15.0, scale_y=3.0, num=200)\n",
    "f = plt.figure(figsize=(10,10))\n",
    "plt.plot(x1,y1,'b.',x2,y2,'r.',x3,y3,'g.',x4,y4,'m.',x5,y5,'y.',x6,y6,'c.',x7,y7,'k.')\n",
    "plt.axis('equal')\n",
    "f.get_axes()[0].set_xticklabels(map(lambda x: x/100., plt.xticks()[0]))\n",
    "f.get_axes()[0].set_yticklabels(map(lambda x: x/100., plt.yticks()[0]))\n",
    "plt.show()"
   ]
  },
  {
   "cell_type": "code",
   "execution_count": null,
   "metadata": {
    "collapsed": true
   },
   "outputs": [],
   "source": [
    "x = np.hstack([x1, x2, x3, x4, x5, x6, x7])\n",
    "y = np.hstack([y1, y2, y3, y4, y5, y6, y7])\n",
    "data = np.hstack([x.T, y.T])"
   ]
  },
  {
   "cell_type": "code",
   "execution_count": null,
   "metadata": {
    "collapsed": false
   },
   "outputs": [],
   "source": [
    "with open(r'..\\..\\test_files\\expected_divik_results\\synthetic\\1\\divik-result.json') as json_file:\n",
    "    json_data = json_file.read()\n",
    "divik_result = json.loads(json_data)\n",
    "merged = divik_result[\"Merged\"]\n",
    "partition = divik_result[\"Partition\"]\n",
    "print \"Unique clusters: %i\" % len(np.unique(merged))\n",
    "print \"Top level clusters: %i\" % len(np.unique(partition))"
   ]
  },
  {
   "cell_type": "code",
   "execution_count": null,
   "metadata": {
    "collapsed": false
   },
   "outputs": [],
   "source": [
    "fmts = map(lambda x: x+'.', ['b','g','r','c','m','y','k'])\n",
    "plotted = []\n",
    "for label, fmt in zip(np.unique(partition), fmts):\n",
    "    plotted.append(x[:,partition==label])\n",
    "    plotted.append(y[:,partition==label])\n",
    "    plotted.append(fmt)\n",
    "f = plt.figure(figsize=(10,10))\n",
    "plt.plot(*plotted)\n",
    "plt.axis('equal')\n",
    "f.get_axes()[0].set_xticklabels(map(lambda x: x/100., plt.xticks()[0]))\n",
    "f.get_axes()[0].set_yticklabels(map(lambda x: x/100., plt.yticks()[0]))\n",
    "plt.show()"
   ]
  }
 ],
 "metadata": {
  "anaconda-cloud": {},
  "kernelspec": {
   "display_name": "Python [default]",
   "language": "python",
   "name": "python2"
  },
  "language_info": {
   "codemirror_mode": {
    "name": "ipython",
    "version": 2
   },
   "file_extension": ".py",
   "mimetype": "text/x-python",
   "name": "python",
   "nbconvert_exporter": "python",
   "pygments_lexer": "ipython2",
   "version": "2.7.12"
  }
 },
 "nbformat": 4,
 "nbformat_minor": 1
}
